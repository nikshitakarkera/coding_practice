{
 "cells": [
  {
   "cell_type": "code",
   "execution_count": 1,
   "id": "7aac89ee",
   "metadata": {},
   "outputs": [],
   "source": [
    "def findMedianSortedArrays(self, nums1, nums2):\n",
    "        num=nums1+nums2\n",
    "        print(num)\n",
    "        num=sorted(num)\n",
    "        n=len(num)\n",
    "        print(n)\n",
    "        if n%2==0:\n",
    "            return(float(num[(n/2)-1]+num[n/2])/2)\n",
    "        else:\n",
    "            return(num[int(n/2)])"
   ]
  },
  {
   "cell_type": "code",
   "execution_count": null,
   "id": "fcad7605",
   "metadata": {},
   "outputs": [],
   "source": []
  }
 ],
 "metadata": {
  "kernelspec": {
   "display_name": "Python 3 (ipykernel)",
   "language": "python",
   "name": "python3"
  },
  "language_info": {
   "codemirror_mode": {
    "name": "ipython",
    "version": 3
   },
   "file_extension": ".py",
   "mimetype": "text/x-python",
   "name": "python",
   "nbconvert_exporter": "python",
   "pygments_lexer": "ipython3",
   "version": "3.8.18"
  }
 },
 "nbformat": 4,
 "nbformat_minor": 5
}
