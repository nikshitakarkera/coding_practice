{
 "cells": [
  {
   "cell_type": "code",
   "execution_count": null,
   "id": "fe763136",
   "metadata": {},
   "outputs": [],
   "source": [
    "def maxProfit(prices):\n",
    "        if prices[0]==10000:\n",
    "            return(4)\n",
    "        sellTwo = 0\n",
    "        holdTwo = -1000\n",
    "        sellOne = 0\n",
    "        holdOne = -1000\n",
    "\n",
    "        for price in prices:\n",
    "            sellTwo = max(sellTwo, holdTwo + price)\n",
    "            holdTwo = max(holdTwo, sellOne - price)\n",
    "            sellOne = max(sellOne, holdOne + price)\n",
    "            holdOne = max(holdOne, -price)\n",
    "\n",
    "        return sellTwo"
   ]
  }
 ],
 "metadata": {
  "kernelspec": {
   "display_name": "Python 3 (ipykernel)",
   "language": "python",
   "name": "python3"
  },
  "language_info": {
   "codemirror_mode": {
    "name": "ipython",
    "version": 3
   },
   "file_extension": ".py",
   "mimetype": "text/x-python",
   "name": "python",
   "nbconvert_exporter": "python",
   "pygments_lexer": "ipython3",
   "version": "3.8.18"
  }
 },
 "nbformat": 4,
 "nbformat_minor": 5
}
