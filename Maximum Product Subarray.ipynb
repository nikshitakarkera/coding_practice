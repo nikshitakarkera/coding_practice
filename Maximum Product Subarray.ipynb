{
 "cells": [
  {
   "cell_type": "code",
   "execution_count": 2,
   "id": "5e4c1391",
   "metadata": {},
   "outputs": [],
   "source": [
    "def maxProduct(self, nums):\n",
    "        currMin=1\n",
    "        currMax=1\n",
    "        res=max(nums)\n",
    "        for n in nums:\n",
    "            tmp=currMax*n\n",
    "            print(currMax*n)\n",
    "            currMax=max(currMax*n,currMin*n,n)\n",
    "            currMin=min(tmp,currMin*n,n)\n",
    "            res=max(currMax,res)\n",
    "        return(res)"
   ]
  },
  {
   "cell_type": "code",
   "execution_count": null,
   "id": "5cfa8da3",
   "metadata": {},
   "outputs": [],
   "source": []
  }
 ],
 "metadata": {
  "kernelspec": {
   "display_name": "Python 3 (ipykernel)",
   "language": "python",
   "name": "python3"
  },
  "language_info": {
   "codemirror_mode": {
    "name": "ipython",
    "version": 3
   },
   "file_extension": ".py",
   "mimetype": "text/x-python",
   "name": "python",
   "nbconvert_exporter": "python",
   "pygments_lexer": "ipython3",
   "version": "3.8.18"
  }
 },
 "nbformat": 4,
 "nbformat_minor": 5
}
