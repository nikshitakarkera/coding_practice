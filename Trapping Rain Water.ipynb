{
 "cells": [
  {
   "cell_type": "code",
   "execution_count": null,
   "id": "c7c55cd9",
   "metadata": {},
   "outputs": [],
   "source": [
    "def trap(self, height):\n",
    "        l,r=0,len(height)-1\n",
    "        maxLeft,maxRight=height[l],height[r]\n",
    "        res=0\n",
    "        while(l<r):\n",
    "            if maxLeft<maxRight:\n",
    "                l+=1\n",
    "                maxLeft=max(maxLeft,height[l])\n",
    "                res+=maxLeft-height[l]\n",
    "            else:\n",
    "                r-=1\n",
    "                maxRight=max(maxRight,height[r])\n",
    "                res+=maxRight-height[r]\n",
    "        return(res)"
   ]
  }
 ],
 "metadata": {
  "kernelspec": {
   "display_name": "Python 3 (ipykernel)",
   "language": "python",
   "name": "python3"
  },
  "language_info": {
   "codemirror_mode": {
    "name": "ipython",
    "version": 3
   },
   "file_extension": ".py",
   "mimetype": "text/x-python",
   "name": "python",
   "nbconvert_exporter": "python",
   "pygments_lexer": "ipython3",
   "version": "3.8.18"
  }
 },
 "nbformat": 4,
 "nbformat_minor": 5
}
