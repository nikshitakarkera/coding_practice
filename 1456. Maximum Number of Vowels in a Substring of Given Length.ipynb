{
 "cells": [
  {
   "cell_type": "code",
   "execution_count": 1,
   "id": "449ec9a6",
   "metadata": {},
   "outputs": [],
   "source": [
    "#timelimitexceeded\n",
    "def maxVowels(self, s, k):\n",
    "        \"\"\"\n",
    "        :type s: str\n",
    "        :type k: int\n",
    "        :rtype: int\n",
    "        \"\"\"\n",
    "        l=0\n",
    "        r=k\n",
    "        vowel=\"aeiou\"\n",
    "        maxi=0\n",
    "        while(r<=len(s)):\n",
    "            count=0\n",
    "            for i in vowel:\n",
    "                count+=s[l:r].count(i)\n",
    "            maxi=max(count,maxi)\n",
    "            l+=1\n",
    "            r+=1\n",
    "        return maxi"
   ]
  },
  {
   "cell_type": "code",
   "execution_count": 2,
   "id": "53d670b5",
   "metadata": {},
   "outputs": [],
   "source": [
    "def maxVowels(self, s, k):\n",
    "        \"\"\"\n",
    "        :type s: str\n",
    "        :type k: int\n",
    "        :rtype: int\n",
    "        \"\"\"\n",
    "        vowel =['a', 'e','i', 'o', 'u']\n",
    "        l,cnt,res =0,0,0\n",
    "        for r in range(len(s)):\n",
    "            cnt += 1 if s[r] in vowel else 0\n",
    "            if r-l+1>k:\n",
    "                cnt -=1 if s[l] in vowel else 0\n",
    "                l+=1\n",
    "            res=max(res,cnt)\n",
    "        return(res)"
   ]
  },
  {
   "cell_type": "code",
   "execution_count": null,
   "id": "1902eaf6",
   "metadata": {},
   "outputs": [],
   "source": []
  }
 ],
 "metadata": {
  "kernelspec": {
   "display_name": "Python 3 (ipykernel)",
   "language": "python",
   "name": "python3"
  },
  "language_info": {
   "codemirror_mode": {
    "name": "ipython",
    "version": 3
   },
   "file_extension": ".py",
   "mimetype": "text/x-python",
   "name": "python",
   "nbconvert_exporter": "python",
   "pygments_lexer": "ipython3",
   "version": "3.8.18"
  }
 },
 "nbformat": 4,
 "nbformat_minor": 5
}
