{
 "cells": [
  {
   "cell_type": "code",
   "execution_count": null,
   "id": "5eddb485",
   "metadata": {},
   "outputs": [],
   "source": [
    "def isPalindrome(self, head):\n",
    "        nums=[]\n",
    "        while(head):\n",
    "            nums.append(head.val)\n",
    "            head=head.next\n",
    "        l,r=0,len(nums)-1\n",
    "\n",
    "        while(l<=r):\n",
    "            if nums[l]!=nums[r]:\n",
    "                return(False)\n",
    "            l+=1\n",
    "            r-=1\n",
    "        return(True)"
   ]
  }
 ],
 "metadata": {
  "kernelspec": {
   "display_name": "Python 3 (ipykernel)",
   "language": "python",
   "name": "python3"
  },
  "language_info": {
   "codemirror_mode": {
    "name": "ipython",
    "version": 3
   },
   "file_extension": ".py",
   "mimetype": "text/x-python",
   "name": "python",
   "nbconvert_exporter": "python",
   "pygments_lexer": "ipython3",
   "version": "3.8.18"
  }
 },
 "nbformat": 4,
 "nbformat_minor": 5
}
