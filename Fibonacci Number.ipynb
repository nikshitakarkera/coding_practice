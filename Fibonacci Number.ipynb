{
 "cells": [
  {
   "cell_type": "code",
   "execution_count": null,
   "id": "d6439dc9",
   "metadata": {},
   "outputs": [],
   "source": [
    "def fib(self, n):\n",
    "        if n==0:\n",
    "            return 0\n",
    "        res=[0,1]\n",
    "        for i in range(2,n):\n",
    "            res.append(res[i-2]+res[i-1])\n",
    "        print(res[-2:])\n",
    "        return sum(res[-2:])"
   ]
  }
 ],
 "metadata": {
  "kernelspec": {
   "display_name": "Python 3 (ipykernel)",
   "language": "python",
   "name": "python3"
  },
  "language_info": {
   "codemirror_mode": {
    "name": "ipython",
    "version": 3
   },
   "file_extension": ".py",
   "mimetype": "text/x-python",
   "name": "python",
   "nbconvert_exporter": "python",
   "pygments_lexer": "ipython3",
   "version": "3.8.18"
  }
 },
 "nbformat": 4,
 "nbformat_minor": 5
}
