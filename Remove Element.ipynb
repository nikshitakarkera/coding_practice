{
 "cells": [
  {
   "cell_type": "code",
   "execution_count": 6,
   "id": "0b2a7486",
   "metadata": {},
   "outputs": [
    {
     "data": {
      "text/plain": [
       "2"
      ]
     },
     "execution_count": 6,
     "metadata": {},
     "output_type": "execute_result"
    }
   ],
   "source": [
    "def removeElement(nums, val):\n",
    "        k=0\n",
    "        for i in range(len(nums)):\n",
    "            if nums[i]!=val:\n",
    "                nums[k]=nums[i]\n",
    "                k+=1\n",
    "        return k\n",
    "            \n",
    "removeElement([3,2,2,3], 3)"
   ]
  },
  {
   "cell_type": "code",
   "execution_count": null,
   "id": "4e221294",
   "metadata": {},
   "outputs": [],
   "source": []
  }
 ],
 "metadata": {
  "kernelspec": {
   "display_name": "Python 3 (ipykernel)",
   "language": "python",
   "name": "python3"
  },
  "language_info": {
   "codemirror_mode": {
    "name": "ipython",
    "version": 3
   },
   "file_extension": ".py",
   "mimetype": "text/x-python",
   "name": "python",
   "nbconvert_exporter": "python",
   "pygments_lexer": "ipython3",
   "version": "3.8.18"
  }
 },
 "nbformat": 4,
 "nbformat_minor": 5
}
