{
 "cells": [
  {
   "cell_type": "code",
   "execution_count": null,
   "id": "5bf86a07",
   "metadata": {},
   "outputs": [],
   "source": [
    "def missingNumber(self, nums):\n",
    "        if 0 not in nums:\n",
    "            return(0)\n",
    "        t=(sum(range(0,max(nums)+1)))\n",
    "        s=(sum(nums))\n",
    "        if t-s==0:\n",
    "            return(max(nums)+1)\n",
    "        return(t-s)"
   ]
  }
 ],
 "metadata": {
  "kernelspec": {
   "display_name": "Python 3 (ipykernel)",
   "language": "python",
   "name": "python3"
  },
  "language_info": {
   "codemirror_mode": {
    "name": "ipython",
    "version": 3
   },
   "file_extension": ".py",
   "mimetype": "text/x-python",
   "name": "python",
   "nbconvert_exporter": "python",
   "pygments_lexer": "ipython3",
   "version": "3.8.18"
  }
 },
 "nbformat": 4,
 "nbformat_minor": 5
}
